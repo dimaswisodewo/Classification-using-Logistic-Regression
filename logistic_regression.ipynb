{
  "nbformat": 4,
  "nbformat_minor": 0,
  "metadata": {
    "colab": {
      "name": "logistic_regression.ipynb",
      "provenance": [],
      "collapsed_sections": [],
      "include_colab_link": true
    },
    "kernelspec": {
      "name": "python3",
      "display_name": "Python 3"
    }
  },
  "cells": [
    {
      "cell_type": "markdown",
      "metadata": {
        "id": "view-in-github",
        "colab_type": "text"
      },
      "source": [
        "<a href=\"https://colab.research.google.com/github/dimaswisodewo/Classification-using-Logistic-Regression/blob/main/logistic_regression.ipynb\" target=\"_parent\"><img src=\"https://colab.research.google.com/assets/colab-badge.svg\" alt=\"Open In Colab\"/></a>"
      ]
    },
    {
      "cell_type": "markdown",
      "metadata": {
        "id": "37puETfgRzzg"
      },
      "source": [
        "# Logistic Regression"
      ]
    },
    {
      "cell_type": "markdown",
      "metadata": {
        "id": "EoRP98MpR-qj"
      },
      "source": [
        "## Importing the libraries"
      ]
    },
    {
      "cell_type": "code",
      "metadata": {
        "id": "iEnrdiEbqpee"
      },
      "source": [
        "import numpy as np\r\n",
        "import matplotlib.pyplot as plt\r\n",
        "import pandas as pd"
      ],
      "execution_count": 1,
      "outputs": []
    },
    {
      "cell_type": "markdown",
      "metadata": {
        "id": "RopL7tUZSQkT"
      },
      "source": [
        "## Importing the dataset"
      ]
    },
    {
      "cell_type": "code",
      "metadata": {
        "colab": {
          "base_uri": "https://localhost:8080/"
        },
        "id": "9xY94yI9OAbr",
        "outputId": "7b1edcff-d5cd-4092-8089-de99fc045c7a"
      },
      "source": [
        "from google.colab import drive\n",
        "drive.mount('/content/drive')"
      ],
      "execution_count": 2,
      "outputs": [
        {
          "output_type": "stream",
          "text": [
            "Drive already mounted at /content/drive; to attempt to forcibly remount, call drive.mount(\"/content/drive\", force_remount=True).\n"
          ],
          "name": "stdout"
        }
      ]
    },
    {
      "cell_type": "code",
      "metadata": {
        "colab": {
          "base_uri": "https://localhost:8080/"
        },
        "id": "pUpCckGzOCB6",
        "outputId": "9554aced-ec4a-4812-e716-42183d02f233"
      },
      "source": [
        "!ls \"/content/drive/MyDrive/Colab Notebooks/Classification/Logistic Regression\""
      ],
      "execution_count": 3,
      "outputs": [
        {
          "output_type": "stream",
          "text": [
            "logistic_regression.ipynb  Social_Network_Ads.csv\n"
          ],
          "name": "stdout"
        }
      ]
    },
    {
      "cell_type": "code",
      "metadata": {
        "colab": {
          "base_uri": "https://localhost:8080/"
        },
        "id": "Cd7Kyh4c7rny",
        "outputId": "7b3d28ba-0891-46e7-b2fd-6a244d346478"
      },
      "source": [
        "dataset = pd.read_csv('/content/drive/MyDrive/Colab Notebooks/Classification/Logistic Regression/Social_Network_Ads.csv')\r\n",
        "print(dataset)"
      ],
      "execution_count": 4,
      "outputs": [
        {
          "output_type": "stream",
          "text": [
            "     Age  EstimatedSalary  Purchased\n",
            "0     19            19000          0\n",
            "1     35            20000          0\n",
            "2     26            43000          0\n",
            "3     27            57000          0\n",
            "4     19            76000          0\n",
            "..   ...              ...        ...\n",
            "395   46            41000          1\n",
            "396   51            23000          1\n",
            "397   50            20000          1\n",
            "398   36            33000          0\n",
            "399   49            36000          1\n",
            "\n",
            "[400 rows x 3 columns]\n"
          ],
          "name": "stdout"
        }
      ]
    },
    {
      "cell_type": "code",
      "metadata": {
        "id": "f98mmV8V8CYX"
      },
      "source": [
        "X = dataset.iloc[:, :-1].values\r\n",
        "y = dataset.iloc[:, -1].values"
      ],
      "execution_count": 5,
      "outputs": []
    },
    {
      "cell_type": "code",
      "metadata": {
        "colab": {
          "base_uri": "https://localhost:8080/"
        },
        "id": "6vPrhMYl8m7W",
        "outputId": "9770cf41-4828-43b9-f432-97902047b874"
      },
      "source": [
        "print(X)"
      ],
      "execution_count": 6,
      "outputs": [
        {
          "output_type": "stream",
          "text": [
            "[[    19  19000]\n",
            " [    35  20000]\n",
            " [    26  43000]\n",
            " [    27  57000]\n",
            " [    19  76000]\n",
            " [    27  58000]\n",
            " [    27  84000]\n",
            " [    32 150000]\n",
            " [    25  33000]\n",
            " [    35  65000]\n",
            " [    26  80000]\n",
            " [    26  52000]\n",
            " [    20  86000]\n",
            " [    32  18000]\n",
            " [    18  82000]\n",
            " [    29  80000]\n",
            " [    47  25000]\n",
            " [    45  26000]\n",
            " [    46  28000]\n",
            " [    48  29000]\n",
            " [    45  22000]\n",
            " [    47  49000]\n",
            " [    48  41000]\n",
            " [    45  22000]\n",
            " [    46  23000]\n",
            " [    47  20000]\n",
            " [    49  28000]\n",
            " [    47  30000]\n",
            " [    29  43000]\n",
            " [    31  18000]\n",
            " [    31  74000]\n",
            " [    27 137000]\n",
            " [    21  16000]\n",
            " [    28  44000]\n",
            " [    27  90000]\n",
            " [    35  27000]\n",
            " [    33  28000]\n",
            " [    30  49000]\n",
            " [    26  72000]\n",
            " [    27  31000]\n",
            " [    27  17000]\n",
            " [    33  51000]\n",
            " [    35 108000]\n",
            " [    30  15000]\n",
            " [    28  84000]\n",
            " [    23  20000]\n",
            " [    25  79000]\n",
            " [    27  54000]\n",
            " [    30 135000]\n",
            " [    31  89000]\n",
            " [    24  32000]\n",
            " [    18  44000]\n",
            " [    29  83000]\n",
            " [    35  23000]\n",
            " [    27  58000]\n",
            " [    24  55000]\n",
            " [    23  48000]\n",
            " [    28  79000]\n",
            " [    22  18000]\n",
            " [    32 117000]\n",
            " [    27  20000]\n",
            " [    25  87000]\n",
            " [    23  66000]\n",
            " [    32 120000]\n",
            " [    59  83000]\n",
            " [    24  58000]\n",
            " [    24  19000]\n",
            " [    23  82000]\n",
            " [    22  63000]\n",
            " [    31  68000]\n",
            " [    25  80000]\n",
            " [    24  27000]\n",
            " [    20  23000]\n",
            " [    33 113000]\n",
            " [    32  18000]\n",
            " [    34 112000]\n",
            " [    18  52000]\n",
            " [    22  27000]\n",
            " [    28  87000]\n",
            " [    26  17000]\n",
            " [    30  80000]\n",
            " [    39  42000]\n",
            " [    20  49000]\n",
            " [    35  88000]\n",
            " [    30  62000]\n",
            " [    31 118000]\n",
            " [    24  55000]\n",
            " [    28  85000]\n",
            " [    26  81000]\n",
            " [    35  50000]\n",
            " [    22  81000]\n",
            " [    30 116000]\n",
            " [    26  15000]\n",
            " [    29  28000]\n",
            " [    29  83000]\n",
            " [    35  44000]\n",
            " [    35  25000]\n",
            " [    28 123000]\n",
            " [    35  73000]\n",
            " [    28  37000]\n",
            " [    27  88000]\n",
            " [    28  59000]\n",
            " [    32  86000]\n",
            " [    33 149000]\n",
            " [    19  21000]\n",
            " [    21  72000]\n",
            " [    26  35000]\n",
            " [    27  89000]\n",
            " [    26  86000]\n",
            " [    38  80000]\n",
            " [    39  71000]\n",
            " [    37  71000]\n",
            " [    38  61000]\n",
            " [    37  55000]\n",
            " [    42  80000]\n",
            " [    40  57000]\n",
            " [    35  75000]\n",
            " [    36  52000]\n",
            " [    40  59000]\n",
            " [    41  59000]\n",
            " [    36  75000]\n",
            " [    37  72000]\n",
            " [    40  75000]\n",
            " [    35  53000]\n",
            " [    41  51000]\n",
            " [    39  61000]\n",
            " [    42  65000]\n",
            " [    26  32000]\n",
            " [    30  17000]\n",
            " [    26  84000]\n",
            " [    31  58000]\n",
            " [    33  31000]\n",
            " [    30  87000]\n",
            " [    21  68000]\n",
            " [    28  55000]\n",
            " [    23  63000]\n",
            " [    20  82000]\n",
            " [    30 107000]\n",
            " [    28  59000]\n",
            " [    19  25000]\n",
            " [    19  85000]\n",
            " [    18  68000]\n",
            " [    35  59000]\n",
            " [    30  89000]\n",
            " [    34  25000]\n",
            " [    24  89000]\n",
            " [    27  96000]\n",
            " [    41  30000]\n",
            " [    29  61000]\n",
            " [    20  74000]\n",
            " [    26  15000]\n",
            " [    41  45000]\n",
            " [    31  76000]\n",
            " [    36  50000]\n",
            " [    40  47000]\n",
            " [    31  15000]\n",
            " [    46  59000]\n",
            " [    29  75000]\n",
            " [    26  30000]\n",
            " [    32 135000]\n",
            " [    32 100000]\n",
            " [    25  90000]\n",
            " [    37  33000]\n",
            " [    35  38000]\n",
            " [    33  69000]\n",
            " [    18  86000]\n",
            " [    22  55000]\n",
            " [    35  71000]\n",
            " [    29 148000]\n",
            " [    29  47000]\n",
            " [    21  88000]\n",
            " [    34 115000]\n",
            " [    26 118000]\n",
            " [    34  43000]\n",
            " [    34  72000]\n",
            " [    23  28000]\n",
            " [    35  47000]\n",
            " [    25  22000]\n",
            " [    24  23000]\n",
            " [    31  34000]\n",
            " [    26  16000]\n",
            " [    31  71000]\n",
            " [    32 117000]\n",
            " [    33  43000]\n",
            " [    33  60000]\n",
            " [    31  66000]\n",
            " [    20  82000]\n",
            " [    33  41000]\n",
            " [    35  72000]\n",
            " [    28  32000]\n",
            " [    24  84000]\n",
            " [    19  26000]\n",
            " [    29  43000]\n",
            " [    19  70000]\n",
            " [    28  89000]\n",
            " [    34  43000]\n",
            " [    30  79000]\n",
            " [    20  36000]\n",
            " [    26  80000]\n",
            " [    35  22000]\n",
            " [    35  39000]\n",
            " [    49  74000]\n",
            " [    39 134000]\n",
            " [    41  71000]\n",
            " [    58 101000]\n",
            " [    47  47000]\n",
            " [    55 130000]\n",
            " [    52 114000]\n",
            " [    40 142000]\n",
            " [    46  22000]\n",
            " [    48  96000]\n",
            " [    52 150000]\n",
            " [    59  42000]\n",
            " [    35  58000]\n",
            " [    47  43000]\n",
            " [    60 108000]\n",
            " [    49  65000]\n",
            " [    40  78000]\n",
            " [    46  96000]\n",
            " [    59 143000]\n",
            " [    41  80000]\n",
            " [    35  91000]\n",
            " [    37 144000]\n",
            " [    60 102000]\n",
            " [    35  60000]\n",
            " [    37  53000]\n",
            " [    36 126000]\n",
            " [    56 133000]\n",
            " [    40  72000]\n",
            " [    42  80000]\n",
            " [    35 147000]\n",
            " [    39  42000]\n",
            " [    40 107000]\n",
            " [    49  86000]\n",
            " [    38 112000]\n",
            " [    46  79000]\n",
            " [    40  57000]\n",
            " [    37  80000]\n",
            " [    46  82000]\n",
            " [    53 143000]\n",
            " [    42 149000]\n",
            " [    38  59000]\n",
            " [    50  88000]\n",
            " [    56 104000]\n",
            " [    41  72000]\n",
            " [    51 146000]\n",
            " [    35  50000]\n",
            " [    57 122000]\n",
            " [    41  52000]\n",
            " [    35  97000]\n",
            " [    44  39000]\n",
            " [    37  52000]\n",
            " [    48 134000]\n",
            " [    37 146000]\n",
            " [    50  44000]\n",
            " [    52  90000]\n",
            " [    41  72000]\n",
            " [    40  57000]\n",
            " [    58  95000]\n",
            " [    45 131000]\n",
            " [    35  77000]\n",
            " [    36 144000]\n",
            " [    55 125000]\n",
            " [    35  72000]\n",
            " [    48  90000]\n",
            " [    42 108000]\n",
            " [    40  75000]\n",
            " [    37  74000]\n",
            " [    47 144000]\n",
            " [    40  61000]\n",
            " [    43 133000]\n",
            " [    59  76000]\n",
            " [    60  42000]\n",
            " [    39 106000]\n",
            " [    57  26000]\n",
            " [    57  74000]\n",
            " [    38  71000]\n",
            " [    49  88000]\n",
            " [    52  38000]\n",
            " [    50  36000]\n",
            " [    59  88000]\n",
            " [    35  61000]\n",
            " [    37  70000]\n",
            " [    52  21000]\n",
            " [    48 141000]\n",
            " [    37  93000]\n",
            " [    37  62000]\n",
            " [    48 138000]\n",
            " [    41  79000]\n",
            " [    37  78000]\n",
            " [    39 134000]\n",
            " [    49  89000]\n",
            " [    55  39000]\n",
            " [    37  77000]\n",
            " [    35  57000]\n",
            " [    36  63000]\n",
            " [    42  73000]\n",
            " [    43 112000]\n",
            " [    45  79000]\n",
            " [    46 117000]\n",
            " [    58  38000]\n",
            " [    48  74000]\n",
            " [    37 137000]\n",
            " [    37  79000]\n",
            " [    40  60000]\n",
            " [    42  54000]\n",
            " [    51 134000]\n",
            " [    47 113000]\n",
            " [    36 125000]\n",
            " [    38  50000]\n",
            " [    42  70000]\n",
            " [    39  96000]\n",
            " [    38  50000]\n",
            " [    49 141000]\n",
            " [    39  79000]\n",
            " [    39  75000]\n",
            " [    54 104000]\n",
            " [    35  55000]\n",
            " [    45  32000]\n",
            " [    36  60000]\n",
            " [    52 138000]\n",
            " [    53  82000]\n",
            " [    41  52000]\n",
            " [    48  30000]\n",
            " [    48 131000]\n",
            " [    41  60000]\n",
            " [    41  72000]\n",
            " [    42  75000]\n",
            " [    36 118000]\n",
            " [    47 107000]\n",
            " [    38  51000]\n",
            " [    48 119000]\n",
            " [    42  65000]\n",
            " [    40  65000]\n",
            " [    57  60000]\n",
            " [    36  54000]\n",
            " [    58 144000]\n",
            " [    35  79000]\n",
            " [    38  55000]\n",
            " [    39 122000]\n",
            " [    53 104000]\n",
            " [    35  75000]\n",
            " [    38  65000]\n",
            " [    47  51000]\n",
            " [    47 105000]\n",
            " [    41  63000]\n",
            " [    53  72000]\n",
            " [    54 108000]\n",
            " [    39  77000]\n",
            " [    38  61000]\n",
            " [    38 113000]\n",
            " [    37  75000]\n",
            " [    42  90000]\n",
            " [    37  57000]\n",
            " [    36  99000]\n",
            " [    60  34000]\n",
            " [    54  70000]\n",
            " [    41  72000]\n",
            " [    40  71000]\n",
            " [    42  54000]\n",
            " [    43 129000]\n",
            " [    53  34000]\n",
            " [    47  50000]\n",
            " [    42  79000]\n",
            " [    42 104000]\n",
            " [    59  29000]\n",
            " [    58  47000]\n",
            " [    46  88000]\n",
            " [    38  71000]\n",
            " [    54  26000]\n",
            " [    60  46000]\n",
            " [    60  83000]\n",
            " [    39  73000]\n",
            " [    59 130000]\n",
            " [    37  80000]\n",
            " [    46  32000]\n",
            " [    46  74000]\n",
            " [    42  53000]\n",
            " [    41  87000]\n",
            " [    58  23000]\n",
            " [    42  64000]\n",
            " [    48  33000]\n",
            " [    44 139000]\n",
            " [    49  28000]\n",
            " [    57  33000]\n",
            " [    56  60000]\n",
            " [    49  39000]\n",
            " [    39  71000]\n",
            " [    47  34000]\n",
            " [    48  35000]\n",
            " [    48  33000]\n",
            " [    47  23000]\n",
            " [    45  45000]\n",
            " [    60  42000]\n",
            " [    39  59000]\n",
            " [    46  41000]\n",
            " [    51  23000]\n",
            " [    50  20000]\n",
            " [    36  33000]\n",
            " [    49  36000]]\n"
          ],
          "name": "stdout"
        }
      ]
    },
    {
      "cell_type": "code",
      "metadata": {
        "colab": {
          "base_uri": "https://localhost:8080/"
        },
        "id": "QVFQ-Rs98u-2",
        "outputId": "2e508343-fc38-49e5-8154-f8072677212f"
      },
      "source": [
        "print(y)"
      ],
      "execution_count": 7,
      "outputs": [
        {
          "output_type": "stream",
          "text": [
            "[0 0 0 0 0 0 0 1 0 0 0 0 0 0 0 0 1 1 1 1 1 1 1 1 1 1 1 1 0 0 0 1 0 0 0 0 0\n",
            " 0 0 0 0 0 0 0 0 0 0 0 1 0 0 0 0 0 0 0 0 0 0 0 0 0 0 1 0 0 0 0 0 0 0 0 0 0\n",
            " 0 1 0 0 0 0 0 0 0 0 0 1 0 0 0 0 0 0 0 0 0 0 0 1 0 0 0 0 0 1 0 0 0 0 0 0 0\n",
            " 0 0 0 0 0 0 0 0 0 0 0 0 0 0 0 0 0 0 0 0 0 0 0 0 0 0 1 0 0 0 0 0 0 0 0 1 0\n",
            " 0 0 0 0 0 0 0 0 0 0 0 1 1 0 0 0 0 0 0 0 1 0 0 0 0 0 0 0 0 0 0 0 0 0 1 0 0\n",
            " 0 0 0 0 0 0 0 0 0 0 0 0 0 0 0 0 0 1 0 1 0 1 0 1 0 1 1 0 0 0 1 0 0 0 1 0 1\n",
            " 1 1 0 0 1 1 0 1 1 0 1 1 0 1 0 0 0 1 1 0 1 1 0 1 0 1 0 1 0 0 1 1 0 1 0 0 1\n",
            " 1 0 1 1 0 1 1 0 0 1 0 0 1 1 1 1 1 0 1 1 1 1 0 1 1 0 1 0 1 0 1 1 1 1 0 0 0\n",
            " 1 1 0 1 1 1 1 1 0 0 0 1 1 0 0 1 0 1 0 1 1 0 1 0 1 1 0 1 1 0 0 0 1 1 0 1 0\n",
            " 0 1 0 1 0 0 1 1 0 0 1 1 0 1 1 0 0 1 0 1 0 1 1 1 0 1 0 1 1 1 0 1 1 1 1 0 1\n",
            " 1 1 0 1 0 1 0 0 1 1 0 1 1 1 1 1 1 0 1 1 1 1 1 1 0 1 1 1 0 1]\n"
          ],
          "name": "stdout"
        }
      ]
    },
    {
      "cell_type": "markdown",
      "metadata": {
        "id": "qb_vcgm3qZKW"
      },
      "source": [
        "## Splitting the dataset into the Training set and Test set"
      ]
    },
    {
      "cell_type": "code",
      "metadata": {
        "id": "xMpJEx7z8-F6"
      },
      "source": [
        "from sklearn.model_selection import train_test_split\r\n",
        "\r\n",
        "X_train, X_test, y_train, y_test = train_test_split(X, y, test_size=0.25, random_state=0)"
      ],
      "execution_count": 8,
      "outputs": []
    },
    {
      "cell_type": "code",
      "metadata": {
        "colab": {
          "base_uri": "https://localhost:8080/"
        },
        "id": "WNOvNy3A9NVW",
        "outputId": "68eda4f1-d821-45e2-8928-191a91b54b27"
      },
      "source": [
        "print(\"X_train: \", len(X_train))\r\n",
        "print(\"X_test: \", len(X_test))"
      ],
      "execution_count": 9,
      "outputs": [
        {
          "output_type": "stream",
          "text": [
            "X_train:  300\n",
            "X_test:  100\n"
          ],
          "name": "stdout"
        }
      ]
    },
    {
      "cell_type": "markdown",
      "metadata": {
        "id": "TpGqbS4TqkIR"
      },
      "source": [
        "## Feature Scaling"
      ]
    },
    {
      "cell_type": "code",
      "metadata": {
        "id": "wBzpTaa29VC3"
      },
      "source": [
        "from sklearn.preprocessing import StandardScaler\r\n",
        "\r\n",
        "sc = StandardScaler()\r\n",
        "X_train = sc.fit_transform(X_train)\r\n",
        "X_test = sc.transform(X_test) \r\n",
        "# menggunakan transform saja karena value untuk centering data sudah \r\n",
        "# tersimpan di objek sc saat fit_transform(), centering pada data test harus menggunakan value \r\n",
        "# yang sama dengan yang digunakan pada data train"
      ],
      "execution_count": 10,
      "outputs": []
    },
    {
      "cell_type": "markdown",
      "metadata": {
        "id": "B-dOuQyaBfUd"
      },
      "source": [
        "## Training the Logistic Regression model on the Training set"
      ]
    },
    {
      "cell_type": "code",
      "metadata": {
        "colab": {
          "base_uri": "https://localhost:8080/"
        },
        "id": "g4X3jGsK_yFJ",
        "outputId": "65cb63fe-19a6-4048-fb1a-7834763777f4"
      },
      "source": [
        "from sklearn.linear_model import LogisticRegression\r\n",
        "\r\n",
        "classifier = LogisticRegression(random_state=0)\r\n",
        "classifier.fit(X_train, y_train)"
      ],
      "execution_count": 11,
      "outputs": [
        {
          "output_type": "execute_result",
          "data": {
            "text/plain": [
              "LogisticRegression(C=1.0, class_weight=None, dual=False, fit_intercept=True,\n",
              "                   intercept_scaling=1, l1_ratio=None, max_iter=100,\n",
              "                   multi_class='auto', n_jobs=None, penalty='l2',\n",
              "                   random_state=0, solver='lbfgs', tol=0.0001, verbose=0,\n",
              "                   warm_start=False)"
            ]
          },
          "metadata": {
            "tags": []
          },
          "execution_count": 11
        }
      ]
    },
    {
      "cell_type": "markdown",
      "metadata": {
        "id": "_gFgw0SQDZgC"
      },
      "source": [
        "## Predicting a new result"
      ]
    },
    {
      "cell_type": "code",
      "metadata": {
        "colab": {
          "base_uri": "https://localhost:8080/"
        },
        "id": "FuP9T5HBDdmQ",
        "outputId": "74f765ee-4edf-467a-8881-dd8ae986b845"
      },
      "source": [
        "customer = np.array([[30, 87000]])\r\n",
        "print(\"data: \", customer)\r\n",
        "customer = sc.transform(customer)\r\n",
        "customer_pred = classifier.predict(customer)\r\n",
        "print(\"prediction: \", customer_pred)"
      ],
      "execution_count": 12,
      "outputs": [
        {
          "output_type": "stream",
          "text": [
            "data:  [[   30 87000]]\n",
            "prediction:  [0]\n"
          ],
          "name": "stdout"
        }
      ]
    },
    {
      "cell_type": "markdown",
      "metadata": {
        "id": "WGc-ge00EF15"
      },
      "source": [
        "## Predicting the Test set results"
      ]
    },
    {
      "cell_type": "code",
      "metadata": {
        "id": "hEYCFuKSDDzN"
      },
      "source": [
        "y_pred = classifier.predict(X_test)"
      ],
      "execution_count": 13,
      "outputs": []
    },
    {
      "cell_type": "code",
      "metadata": {
        "colab": {
          "base_uri": "https://localhost:8080/"
        },
        "id": "N_MC_BOZDK8S",
        "outputId": "ce1f27d6-b5eb-4975-ae71-a1aa0e8527df"
      },
      "source": [
        "print(np.concatenate((y_pred.reshape(len(y_pred), 1), y_test.reshape(len(y_test), 1)), 1))"
      ],
      "execution_count": 14,
      "outputs": [
        {
          "output_type": "stream",
          "text": [
            "[[0 0]\n",
            " [0 0]\n",
            " [0 0]\n",
            " [0 0]\n",
            " [0 0]\n",
            " [0 0]\n",
            " [0 0]\n",
            " [1 1]\n",
            " [0 0]\n",
            " [1 0]\n",
            " [0 0]\n",
            " [0 0]\n",
            " [0 0]\n",
            " [0 0]\n",
            " [0 0]\n",
            " [0 0]\n",
            " [0 0]\n",
            " [0 0]\n",
            " [1 1]\n",
            " [0 0]\n",
            " [0 0]\n",
            " [1 1]\n",
            " [0 0]\n",
            " [1 1]\n",
            " [0 0]\n",
            " [1 1]\n",
            " [0 0]\n",
            " [0 0]\n",
            " [0 0]\n",
            " [0 0]\n",
            " [0 0]\n",
            " [0 1]\n",
            " [1 1]\n",
            " [0 0]\n",
            " [0 0]\n",
            " [0 0]\n",
            " [0 0]\n",
            " [0 0]\n",
            " [0 0]\n",
            " [1 1]\n",
            " [0 0]\n",
            " [0 0]\n",
            " [0 0]\n",
            " [0 0]\n",
            " [1 1]\n",
            " [0 0]\n",
            " [0 0]\n",
            " [1 1]\n",
            " [0 0]\n",
            " [1 1]\n",
            " [1 1]\n",
            " [0 0]\n",
            " [0 0]\n",
            " [0 0]\n",
            " [1 1]\n",
            " [0 1]\n",
            " [0 0]\n",
            " [0 0]\n",
            " [0 1]\n",
            " [0 0]\n",
            " [0 0]\n",
            " [1 1]\n",
            " [0 0]\n",
            " [0 1]\n",
            " [0 0]\n",
            " [1 1]\n",
            " [0 0]\n",
            " [0 0]\n",
            " [0 0]\n",
            " [0 0]\n",
            " [1 1]\n",
            " [0 0]\n",
            " [0 0]\n",
            " [0 1]\n",
            " [0 0]\n",
            " [0 0]\n",
            " [1 0]\n",
            " [0 0]\n",
            " [1 1]\n",
            " [1 1]\n",
            " [1 1]\n",
            " [1 0]\n",
            " [0 0]\n",
            " [0 0]\n",
            " [1 1]\n",
            " [1 1]\n",
            " [0 0]\n",
            " [1 1]\n",
            " [0 1]\n",
            " [0 0]\n",
            " [0 0]\n",
            " [1 1]\n",
            " [0 0]\n",
            " [0 0]\n",
            " [0 0]\n",
            " [0 1]\n",
            " [0 0]\n",
            " [0 1]\n",
            " [1 1]\n",
            " [1 1]]\n"
          ],
          "name": "stdout"
        }
      ]
    },
    {
      "cell_type": "markdown",
      "metadata": {
        "id": "IuP3i1HoNGth"
      },
      "source": [
        "## Making the Confusion Matrix"
      ]
    },
    {
      "cell_type": "code",
      "metadata": {
        "colab": {
          "base_uri": "https://localhost:8080/"
        },
        "id": "fppZTTm9MIQM",
        "outputId": "ec5aec3b-3b8d-4974-f170-bf89e7a19ee1"
      },
      "source": [
        "from sklearn.metrics import confusion_matrix, accuracy_score\r\n",
        "\r\n",
        "cm = confusion_matrix(y_test, y_pred)\r\n",
        "accuracy = accuracy_score(y_test, y_pred)\r\n",
        "print(cm)\r\n",
        "print(\"Accuracy: \", accuracy)"
      ],
      "execution_count": 15,
      "outputs": [
        {
          "output_type": "stream",
          "text": [
            "[[65  3]\n",
            " [ 8 24]]\n",
            "Accuracy:  0.89\n"
          ],
          "name": "stdout"
        }
      ]
    },
    {
      "cell_type": "markdown",
      "metadata": {
        "id": "LOC68uamQJ9x"
      },
      "source": [
        "## Visualizing the Training Set results"
      ]
    },
    {
      "cell_type": "code",
      "metadata": {
        "colab": {
          "base_uri": "https://localhost:8080/",
          "height": 349
        },
        "id": "zy5_Hw8vQI2_",
        "outputId": "85a62a47-52fc-4db6-be4d-e252f67f8eb2"
      },
      "source": [
        "from matplotlib.colors import ListedColormap\r\n",
        "\r\n",
        "X_set, y_set = sc.inverse_transform(X_train), y_train\r\n",
        "\r\n",
        "# grid\r\n",
        "X1, X2 = np.meshgrid(np.arange(start = X_set[:, 0].min() - 10, stop = X_set[:, 0].max() + 10, step = 0.25),\r\n",
        "                     np.arange(start = X_set[:, 1].min() - 1000, stop = X_set[:, 1].max() + 1000, step = 0.25))\r\n",
        "\r\n",
        "plt.contourf(X1, X2, classifier.predict(sc.transform(np.array([X1.ravel(), X2.ravel()]).T)).reshape(X1.shape),\r\n",
        "             alpha = 0.75, cmap = ListedColormap(['red', 'green']))\r\n",
        "\r\n",
        "plt.xlim(X1.min(), X1.max())\r\n",
        "plt.ylim(X2.min(), X2.max())\r\n",
        "\r\n",
        "for i, j in enumerate(np.unique(y_set)):\r\n",
        "  plt.scatter(X_set[y_set == j, 0], X_set[y_set == j, 1], c=ListedColormap(('red', 'green'))(i), label=j)\r\n",
        "\r\n",
        "plt.title('Logistic Regression (Training Set')\r\n",
        "plt.xlabel('Age')\r\n",
        "plt.ylabel('Estimated Salary')\r\n",
        "plt.legend()\r\n",
        "plt.show()"
      ],
      "execution_count": 16,
      "outputs": [
        {
          "output_type": "stream",
          "text": [
            "*c* argument looks like a single numeric RGB or RGBA sequence, which should be avoided as value-mapping will have precedence in case its length matches with *x* & *y*.  Please use the *color* keyword-argument or provide a 2-D array with a single row if you intend to specify the same RGB or RGBA value for all points.\n",
            "*c* argument looks like a single numeric RGB or RGBA sequence, which should be avoided as value-mapping will have precedence in case its length matches with *x* & *y*.  Please use the *color* keyword-argument or provide a 2-D array with a single row if you intend to specify the same RGB or RGBA value for all points.\n"
          ],
          "name": "stderr"
        },
        {
          "output_type": "display_data",
          "data": {
            "image/png": "[encoded data removed]",
            "text/plain": [
              "<Figure size 432x288 with 1 Axes>"
            ]
          },
          "metadata": {
            "tags": [],
            "needs_background": "light"
          }
        }
      ]
    },
    {
      "cell_type": "markdown",
      "metadata": {
        "id": "wG3Ypa-XQN6p"
      },
      "source": [
        "## Visualizing the Test Set results"
      ]
    },
    {
      "cell_type": "code",
      "metadata": {
        "colab": {
          "base_uri": "https://localhost:8080/",
          "height": 349
        },
        "id": "p1X8Ui76V_IB",
        "outputId": "07587e12-05b0-417e-d2cf-d6d5df922f00"
      },
      "source": [
        "from matplotlib.colors import ListedColormap\r\n",
        "\r\n",
        "X_set, y_set = sc.inverse_transform(X_test), y_test\r\n",
        "\r\n",
        "# grid\r\n",
        "X1, X2 = np.meshgrid(np.arange(start = X_set[:, 0].min() - 10, stop = X_set[:, 0].max() + 10, step = 0.25),\r\n",
        "                     np.arange(start = X_set[:, 1].min() - 1000, stop = X_set[:, 1].max() + 1000, step = 0.25))\r\n",
        "\r\n",
        "plt.contourf(X1, X2, classifier.predict(sc.transform(np.array([X1.ravel(), X2.ravel()]).T)).reshape(X1.shape),\r\n",
        "             alpha = 0.75, cmap = ListedColormap(['red', 'green']))\r\n",
        "\r\n",
        "plt.xlim(X1.min(), X1.max())\r\n",
        "plt.ylim(X2.min(), X2.max())\r\n",
        "\r\n",
        "for i, j in enumerate(np.unique(y_set)):\r\n",
        "  plt.scatter(X_set[y_set == j, 0], X_set[y_set == j, 1], c=ListedColormap(('red', 'green'))(i), label=j)\r\n",
        "\r\n",
        "plt.title('Logistic Regression (Training Set')\r\n",
        "plt.xlabel('Age')\r\n",
        "plt.ylabel('Estimated Salary')\r\n",
        "plt.legend()\r\n",
        "plt.show()"
      ],
      "execution_count": 17,
      "outputs": [
        {
          "output_type": "stream",
          "text": [
            "*c* argument looks like a single numeric RGB or RGBA sequence, which should be avoided as value-mapping will have precedence in case its length matches with *x* & *y*.  Please use the *color* keyword-argument or provide a 2-D array with a single row if you intend to specify the same RGB or RGBA value for all points.\n",
            "*c* argument looks like a single numeric RGB or RGBA sequence, which should be avoided as value-mapping will have precedence in case its length matches with *x* & *y*.  Please use the *color* keyword-argument or provide a 2-D array with a single row if you intend to specify the same RGB or RGBA value for all points.\n"
          ],
          "name": "stderr"
        },
        {
          "output_type": "display_data",
          "data": {
            "image/png": "[encoded data removed]",
            "text/plain": [
              "<Figure size 432x288 with 1 Axes>"
            ]
          },
          "metadata": {
            "tags": [],
            "needs_background": "light"
          }
        }
      ]
    }
  ]
}